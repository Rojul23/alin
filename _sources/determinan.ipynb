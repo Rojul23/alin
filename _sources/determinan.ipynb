{
 "cells": [
  {
   "cell_type": "markdown",
   "metadata": {},
   "source": [
    "#Determinan\n",
    "\n",
    "Determinan adalah nilai skalar yang diperoleh dari suatu matriks persegi. Untuk matriks persegi \\( $ n \\times n $), determinan memberikan informasi tentang bagaimana matriks tersebut mempengaruhi perubahan volume dalam transformasi linier. Jika determinan suatu matriks tidak nol, maka matriks tersebut bersifat invertible (memiliki invers), sedangkan jika determinannya nol, matriks tersebut tidak memiliki invers.\n",
    "\n",
    "Contoh:\n",
    "Misalkan kita memiliki matriks 2x2:\n",
    "\\[ A = \\begin{bmatrix} 2 & 3 \\\\ 1 & 4 \\end{bmatrix} \\]\n",
    "\n",
    "Untuk menghitung determinan matriks \\( A \\), kita gunakan rumus:\n",
    "\n",
    "$[ \\text{det}(A) = ad - bc ]$\n",
    "\n",
    "$[ \\text{det}(A) = (2 \\times 4) - (3 \\times 1) ]$\n",
    "\n",
    "$[ \\text{det}(A) = 8 - 3 ]$\n",
    "\n",
    "$[ \\text{det}(A) = 5 ]$\n",
    "\n",
    "Jadi, determinan dari matriks \\( A \\) adalah 5.\n",
    "\n",
    "Contoh lainnya, untuk matriks 3x3:\n",
    "\\[ B = \\begin{bmatrix} 1 & 2 & 3 \\\\ 0 & 1 & 4 \\\\ 5 & 6 & 0 \\end{bmatrix} \\]\n",
    "\n",
    "Rumus determinan untuk matriks 3x3 adalah lebih kompleks, namun untuk contoh ini, kita dapat menggunakan metode ekspansi kofaktor atau aturan Sarrus. Setelah menghitung, kita dapat menemukan determinan dari matriks \\( B \\)."
   ]
  },
  {
   "cell_type": "markdown",
   "metadata": {},
   "source": [
    "Tentu, berikut adalah beberapa sifat-sifat dari determinan beserta contohnya:\n",
    "\n",
    "1. **Determinan dari Identitas**: Determinan dari matriks identitas \\(I_n\\) dengan ordo \\(n \\times n\\) adalah 1.\n",
    "   \n",
    "   Contoh:\n",
    "   $[I_3 = \\begin{bmatrix} 1 & 0 & 0 \\\\ 0 & 1 & 0 \\\\ 0 & 0 & 1 \\end{bmatrix}]$\n",
    "   Determinan dari \\(I_3\\) adalah 1.\n",
    "\n",
    "2. **Perubahan Urutan Baris**: Jika dua baris dari suatu matriks ditukar, maka determinannya akan mengalami perubahan tanda.\n",
    "\n",
    "   Contoh:\n",
    "   Misalkan \\(A\\) adalah matriks 2x2:\n",
    "   $[\n",
    "   A = \\begin{bmatrix} a & b \\\\ c & d \\end{bmatrix}\n",
    "   ]$\n",
    "   $[\n",
    "   \\text{det}(A) = ad - bc\n",
    "   ]$\n",
    "   Jika kita tukar baris pertama dan kedua, maka matriksnya menjadi:\n",
    "   $[\n",
    "   A' = \\begin{bmatrix} c & d \\\\ a & b \\end{bmatrix}\n",
    "   $]\n",
    "   $[\n",
    "   \\text{det}(A') = cd - da = -(ad - bc) = -\\text{det}(A)\n",
    "   ]$\n",
    "\n",
    "3. **Penggandaan Sebuah Baris**: Jika suatu matriks memiliki dua baris yang identik, maka determinannya adalah nol.\n",
    "\n",
    "   Contoh:\n",
    "   Misalkan \\(B\\) adalah matriks 3x3:\n",
    "   $[\n",
    "   B = \\begin{bmatrix} 1 & 2 & 3 \\\\ 1 & 2 & 3 \\\\ 4 & 5 & 6 \\end{bmatrix}\n",
    "   $]\n",
    "   Determinan dari \\(B\\) adalah 0 karena baris pertama dan kedua identik.\n",
    "\n",
    "4. **Penjumlahan Skalar ke Sebuah Baris**: Jika suatu matriks memiliki baris yang merupakan jumlah dari dua baris lainnya, maka determinannya tidak berubah jika baris tersebut digantikan dengan baris asalnya ditambah dengan baris hasil penjumlahan tersebut.\n",
    "\n",
    "   Contoh:\n",
    "   Misalkan \\(C\\) adalah matriks 3x3:\n",
    "   $[\n",
    "   C = \\begin{bmatrix} 1 & 2 & 3 \\\\ 4 & 5 & 6 \\\\ 7 & 8 & 9 \\end{bmatrix}\n",
    "   $]\n",
    "   \n",
    "   Jika kita menggantikan baris ketiga dengan baris ketiga yang baru \\( \\begin{bmatrix} 7 & 8 & 9 \\end{bmatrix} + \\begin{bmatrix} 1 & 2 & 3 \\end{bmatrix} = \\begin{bmatrix} 8 & 10 & 12 \\end{bmatrix} \\), determinan dari matriks tersebut tidak berubah.\n",
    "\n",
    "Sifat-sifat tersebut sering digunakan dalam perhitungan determinan dan membantu dalam memahami sifat-sifat dasar dari matriks."
   ]
  },
  {
   "cell_type": "code",
   "execution_count": 1,
   "metadata": {},
   "outputs": [
    {
     "name": "stdout",
     "output_type": "stream",
     "text": [
      "Matriks A:\n",
      "Matriks:\n",
      "[[2 3]\n",
      " [1 4]]\n",
      "Determinan: 5.000000000000001\n",
      "\n",
      "Matriks B:\n",
      "Matriks:\n",
      "[[1 2 3]\n",
      " [0 1 4]\n",
      " [5 6 0]]\n",
      "Determinan: 0.9999999999999964\n",
      "\n"
     ]
    }
   ],
   "source": [
    "import numpy as np\n",
    "\n",
    "# Matriks A\n",
    "A = np.array([[2, 3],\n",
    "              [1, 4]])\n",
    "\n",
    "# Matriks B\n",
    "B = np.array([[1, 2, 3],\n",
    "              [0, 1, 4],\n",
    "              [5, 6, 0]])\n",
    "\n",
    "# Fungsi untuk menampilkan matriks beserta determinannya\n",
    "def print_matrix_and_determinant(matrix):\n",
    "    print(\"Matriks:\")\n",
    "    print(matrix)\n",
    "    determinant = np.linalg.det(matrix)\n",
    "    print(\"Determinan:\", determinant)\n",
    "    print()\n",
    "\n",
    "# Menampilkan matriks A beserta determinannya\n",
    "print(\"Matriks A:\")\n",
    "print_matrix_and_determinant(A)\n",
    "\n",
    "# Menampilkan matriks B beserta determinannya\n",
    "print(\"Matriks B:\")\n",
    "print_matrix_and_determinant(B)\n"
   ]
  },
  {
   "cell_type": "markdown",
   "metadata": {},
   "source": [
    "#Matrix segitiga atas"
   ]
  },
  {
   "cell_type": "code",
   "execution_count": 2,
   "metadata": {},
   "outputs": [
    {
     "name": "stdout",
     "output_type": "stream",
     "text": [
      "Matriks segitiga atas:\n",
      "[[1 2 3]\n",
      " [0 4 5]\n",
      " [0 0 6]]\n"
     ]
    }
   ],
   "source": [
    "import numpy as np\n",
    "\n",
    "# Membuat matriks segitiga atas\n",
    "A_upper = np.array([[1, 2, 3],\n",
    "                    [0, 4, 5],\n",
    "                    [0, 0, 6]])\n",
    "\n",
    "print(\"Matriks segitiga atas:\")\n",
    "print(A_upper)\n"
   ]
  },
  {
   "cell_type": "markdown",
   "metadata": {},
   "source": [
    "#Matrix segitiga bawah"
   ]
  },
  {
   "cell_type": "code",
   "execution_count": 3,
   "metadata": {},
   "outputs": [
    {
     "name": "stdout",
     "output_type": "stream",
     "text": [
      "Matriks segitiga atas:\n",
      "[[1 2 3]\n",
      " [0 4 5]\n",
      " [0 0 6]]\n"
     ]
    }
   ],
   "source": [
    "import numpy as np\n",
    "\n",
    "# Membuat matriks segitiga atas\n",
    "A_upper = np.array([[1, 2, 3],\n",
    "                    [0, 4, 5],\n",
    "                    [0, 0, 6]])\n",
    "\n",
    "print(\"Matriks segitiga atas:\")\n",
    "print(A_upper)\n"
   ]
  },
  {
   "cell_type": "markdown",
   "metadata": {},
   "source": [
    "#Determinan dengan menggunakan metode ekspansi kofaktor\n",
    "\n",
    "\n",
    "Ekspansi kofaktor adalah metode yang digunakan untuk menghitung determinan suatu matriks persegi dengan cara menguraikan determinan tersebut menjadi jumlah produk antara elemen-elemen matriks dengan kofaktor mereka.\n",
    "\n",
    "\n",
    "Tentu, berikut adalah langkah-langkah untuk menghitung determinan menggunakan metode kofaktor:\n",
    "\n",
    "1. **Matriks A (2x2)**:\n",
    "   $[\n",
    "   A = \\begin{bmatrix} 2 & 3 \\\\ 1 & 4 \\end{bmatrix}\n",
    "   ]$\n",
    "   Misalkan \\(A\\) adalah matriks 2x2 tersebut. Untuk menghitung determinan menggunakan metode kofaktor, kita gunakan rumus:\n",
    "   $[\n",
    "   \\text{det}(A) = a_{11}C_{11} + a_{12}C_{12}\n",
    "   ]$\n",
    "   dengan $(C_{ij})$ adalah kofaktor dari elemen $(a_{ij})$. Kofaktor dari elemen $(a_{ij})$ dapat dihitung dengan mengalikan koefisien (-1)^{i+j} dengan determinan minor yang dihasilkan dari menghapus baris ke-i dan kolom ke-j.\n",
    "\n",
    "2. **Matriks B (3x3)**:\n",
    "   $[\n",
    "   B = \\begin{bmatrix} 1 & 2 & 3 \\\\ 0 & 1 & 4 \\\\ 5 & 6 & 0 \\end{bmatrix}\n",
    "   ]$\n",
    "   Misalkan $(B)$ adalah matriks 3x3 tersebut. Untuk menghitung determinan menggunakan metode kofaktor, kita gunakan rumus:\n",
    "   $[\n",
    "   \\text{det}(B) = a_{11}C_{11} + a_{12}C_{12} + a_{13}C_{13}\n",
    "   ]$\n",
    "   dengan $(C_{ij})$ adalah kofaktor dari elemen $(a_{ij})$. Kofaktor dari elemen $(a_{ij})$ dapat dihitung dengan mengalikan koefisien (-1)^{i+j} dengan determinan minor yang dihasilkan dari menghapus baris ke-i dan kolom ke-j.\n",
    "\n",
    "Setelah menghitung kofaktor dan determinan minor, kita dapat menentukan determinan matriks tersebut dengan menjumlahkan hasil perkalian elemen matriks dengan kofaktor yang sesuai."
   ]
  }
 ],
 "metadata": {
  "kernelspec": {
   "display_name": "Python 3 (ipykernel)",
   "language": "python",
   "name": "python3"
  },
  "language_info": {
   "codemirror_mode": {
    "name": "ipython",
    "version": 3
   },
   "file_extension": ".py",
   "mimetype": "text/x-python",
   "name": "python",
   "nbconvert_exporter": "python",
   "pygments_lexer": "ipython3",
   "version": "3.10.13"
  }
 },
 "nbformat": 4,
 "nbformat_minor": 2
}
