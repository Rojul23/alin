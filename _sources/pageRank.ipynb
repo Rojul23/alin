{
 "cells": [
  {
   "cell_type": "markdown",
   "metadata": {},
   "source": [
    "# PageRank\n",
    "\n",
    "#### **Apa itu PageRank??**\n",
    "PageRank adalah algoritma yang digunakan oleh mesin pencari Google untuk memberi peringkat halaman web dalam hasil pencarian mereka. Algoritma ini dinamai menurut Larry Page, salah satu pendiri Google. PageRank bekerja dengan menghitung jumlah dan kualitas tautan ke sebuah halaman untuk menentukan estimasi kasar dari pentingnya situs web tersebut. Asumsinya adalah bahwa halaman web yang lebih penting kemungkinan besar akan menerima lebih banyak tautan dari halaman lain."
   ]
  },
  {
   "cell_type": "markdown",
   "metadata": {},
   "source": [
    "#### **Sejarah Singkat PageRank**\n",
    "PageRank pertama kali diperkenalkan oleh Larry Page dan Sergey Brin, dua pendiri Google, saat mereka masih menjadi mahasiswa Ph.D. di Universitas Stanford pada tahun 1996. Nama \"PageRank\" berasal dari nama Larry Page.\n",
    "\n",
    "Konsep dasar PageRank didasarkan pada ide bahwa tautan dapat dianggap sebagai suara atau dukungan untuk halaman web. Semakin banyak tautan yang mengarah ke suatu halaman, semakin penting halaman tersebut. Namun, tidak semua tautan memiliki bobot sama. Tautan dari halaman dengan PageRank tinggi memiliki bobot lebih dibandingkan tautan dari halaman dengan PageRank rendah.\n",
    "\n",
    "PageRank awalnya digunakan oleh Google untuk mengurutkan hasil pencarian berdasarkan relevansi. Cara ini membantu Google menawarkan hasil yang lebih akurat kepada audiens, sehingga pada akhirnya meningkatkan popularitas Google itu sendiri.\n",
    "\n",
    "Seiring berjalannya waktu, Google terus menyempurnakan algoritma PageRank untuk mengatasi berbagai tantangan, seperti upaya manipulasi peringkat oleh webmaster. Meskipun PageRank masih menjadi bagian dari algoritma Google, banyak faktor lain yang sekarang memengaruhi peringkat halaman.\n",
    "\n",
    "Pada tahun 2000, Google meluncurkan Toolbar PageRank yang memungkinkan audiens melihat skor PageRank untuk setiap halaman web. Namun, pada tahun 2016, Google menonaktifkan fitur ini dan menegaskan bahwa PageRank adalah salah satu dari ratusan faktor yang digunakan dalam algoritma pencariannya."
   ]
  },
  {
   "cell_type": "markdown",
   "metadata": {},
   "source": [
    "#### **Apa itu Algoritma PageRank?**\n",
    "\n",
    "Algoritma PageRank adalah sistem yang digunakan oleh Google untuk menentukan peringkat situs web di halaman hasil mesin pencari (SERP). Ini dikembangkan oleh Larry Page dan Sergey Brin, yang merupakan salah satu pendiri Google. Algoritma ini menggunakan sejumlah faktor untuk menentukan peringkat sebuah situs web. Ini termasuk jumlah dan kualitas tautan masuk, usia situs web, jumlah halaman di situs web, dan kepadatan kata kunci pada konten.\n",
    "\n",
    "#### **contoh penggunaan algoritma PageRank**\n",
    "Membuat Matriks Transisi (A):\n",
    "\n",
    "Matriks $ A $ merepresentasikan probabilitas transisi dari satu halaman ke halaman lainnya dalam graf.\n",
    "Inisialisasi Vektor Probabilitas Awal (v):\n",
    "\n",
    "Mulailah dengan vektor $ v_0 $ di mana setiap elemen memiliki nilai yang sama, misalnya $ \\frac{1}{n} $.\n",
    "Iterasi Power Method:\n",
    "\n",
    "Perkalian Matriks:\n",
    "𝑣\n",
    "𝑖\n",
    "+\n",
    "1\n",
    "=\n",
    "𝐴\n",
    "𝑣\n",
    "𝑖\n",
    "v \n",
    "i+1\n",
    "​\n",
    " =Av \n",
    "i\n",
    "​\n",
    " \n",
    "Pemeriksaan Konvergensi:\n",
    "∥\n",
    "𝑣\n",
    "𝑖\n",
    "+\n",
    "1\n",
    "−\n",
    "𝑣\n",
    "𝑖\n",
    "∥\n",
    "<\n",
    "toleransi\n",
    "∥v \n",
    "i+1\n",
    "​\n",
    " −v \n",
    "i\n",
    "​\n",
    " ∥<toleransi\n",
    "Lanjutkan iterasi sampai vektor konvergen (perubahan antar iterasi di bawah nilai toleransi).\n",
    "Menghasilkan Skor PageRank:\n",
    "\n",
    "Vektor $ v $ akhir merupakan nilai PageRank yang menunjukkan kepentingan relatif dari setiap halaman dalam graf."
   ]
  },
  {
   "cell_type": "markdown",
   "metadata": {},
   "source": [
    "#### **Cara Kerja Algoritma PageRank**\n",
    "1. **Inisialisasi Matriks Probabilitas Transisi (A)**:\n",
    "   - Matriks \\( A \\) menyatakan probabilitas transisi antara halaman web. Setiap elemen \\( A_{ij} \\) menunjukkan probabilitas untuk pergi dari halaman \\( i \\) ke halaman \\( j \\).\n",
    "\n",
    "2. **Inisialisasi Vektor PageRank Awal (\\( v_0 \\))**:\n",
    "   - Vektor \\( v_0 \\) digunakan untuk menyimpan PageRank awal untuk setiap halaman web.\n",
    "\n",
    "3. **Perkalian Matriks**:\n",
    "   - Fungsi `multiplyMatrix(A, v)` mengalikan matriks probabilitas transisi \\( A \\) dengan vektor PageRank \\( v \\) untuk menghasilkan vektor PageRank baru \\( v_{baru} \\).\n",
    "\n",
    "4. **Perhitungan Iterasi**:\n",
    "   - Fungsi `calculateIteration(v_new, v_old)` menghitung nilai iterasi dengan menghitung perbedaan kuadrat antara vektor PageRank baru \\( v_{baru} \\) dan vektor PageRank sebelumnya \\( v_{lama} \\).\n",
    "\n",
    "5. **Iterasi Konvergensi**:\n",
    "   - Proses iteratif dimulai dengan menghitung vektor PageRank baru menggunakan perkalian matriks. Iterasi berlanjut sampai nilai iterasi berada di bawah toleransi yang ditentukan.\n",
    "\n",
    "6. **Pengurutan PageRank**:\n",
    "   - Setelah iterasi selesai, fungsi `pageRank(v)` digunakan untuk mengembalikan urutan halaman berdasarkan PageRank yang dihasilkan.\n",
    "\n",
    "7. **Output**:\n",
    "   - Urutan halaman yang dihasilkan dari fungsi `pageRank(result)` dicetak sebagai hasil akhir dari proses PageRank.\n"
   ]
  },
  {
   "cell_type": "markdown",
   "metadata": {},
   "source": [
    "#### **Implementasi code python**"
   ]
  },
  {
   "cell_type": "code",
   "execution_count": 5,
   "metadata": {},
   "outputs": [
    {
     "name": "stdout",
     "output_type": "stream",
     "text": [
      "PageRank untuk setiap halaman:\n",
      "Halaman 1: 0.3878\n",
      "Halaman 2: 0.2148\n",
      "Halaman 3: 0.3974\n"
     ]
    }
   ],
   "source": [
    "import numpy as np\n",
    "\n",
    "def create_transition_matrix(adj_matrix):\n",
    "    n = adj_matrix.shape[0]\n",
    "    transition_matrix = np.zeros_like(adj_matrix, dtype=float)\n",
    "    for i in range(n):\n",
    "        if adj_matrix[:, i].sum() != 0:\n",
    "            transition_matrix[:, i] = adj_matrix[:, i] / adj_matrix[:, i].sum()\n",
    "    return transition_matrix\n",
    "\n",
    "def power_method_page_rank(adj_matrix, alpha=0.85, tol=1e-6, max_iter=100):\n",
    "    n = adj_matrix.shape[0]\n",
    "    transition_matrix = create_transition_matrix(adj_matrix)\n",
    "    teleport_matrix = np.ones((n, n)) / n\n",
    "    stochastic_matrix = alpha * transition_matrix + (1 - alpha) * teleport_matrix\n",
    "    page_rank = np.ones(n) / n\n",
    "\n",
    "    for _ in range(max_iter):\n",
    "        new_page_rank = np.dot(stochastic_matrix, page_rank)\n",
    "        if np.linalg.norm(new_page_rank - page_rank, ord=1) < tol:\n",
    "            break\n",
    "        page_rank = new_page_rank\n",
    "\n",
    "    return page_rank\n",
    "\n",
    "# Contoh graf sebagai adjacency matrix\n",
    "adj_matrix = np.array([\n",
    "    [0, 0, 1],\n",
    "    [1, 0, 0],\n",
    "    [1, 1, 0]\n",
    "])\n",
    "\n",
    "# Hitung PageRank\n",
    "page_rank = power_method_page_rank(adj_matrix)\n",
    "print(\"PageRank untuk setiap halaman:\")\n",
    "for i, rank in enumerate(page_rank):\n",
    "    print(f\"Halaman {i+1}: {rank:.4f}\")\n"
   ]
  }
 ],
 "metadata": {
  "kernelspec": {
   "display_name": "Python 3 (ipykernel)",
   "language": "python",
   "name": "python3"
  }
 },
 "nbformat": 4,
 "nbformat_minor": 2
}
